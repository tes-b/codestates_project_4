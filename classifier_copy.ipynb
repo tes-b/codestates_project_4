{
 "cells": [
  {
   "cell_type": "code",
   "execution_count": 199,
   "metadata": {},
   "outputs": [],
   "source": [
    "# 학습 데이터 불러오기\n",
    "import tensorflow as tf\n",
    "from tensorflow.keras.preprocessing.sequence import pad_sequences\n",
    "from tensorflow.keras import layers\n",
    "import numpy as np\n",
    "import pandas as pd\n",
    "import os\n",
    "import json\n",
    "from tqdm import tqdm\n",
    "import re\n",
    "from konlpy.tag import Okt\n",
    "from tensorflow.keras.preprocessing.text import Tokenizer\n",
    "\n",
    "\n",
    "#전처리 데이터 불러오기\n",
    "DATA_PATH = 'data/nsmc-master/CLEAN_DATA/'\n",
    "DATA_OUT = 'data/nsmc-master/DATA_OUT/'\n",
    "INPUT_TRAIN_DATA = 'nsmc_train_input.npy'\n",
    "LABEL_TRAIN_DATA = 'nsmc_train_label.npy'\n",
    "DATA_CONFIGS = 'data_configs.json'\n",
    "\n",
    "train_input = np.load(open(DATA_PATH + INPUT_TRAIN_DATA,'rb'))\n",
    "train_input = pad_sequences(train_input,maxlen=train_input.shape[1])\n",
    "train_label = np.load(open(DATA_PATH + LABEL_TRAIN_DATA,'rb'))\n",
    "prepro_configs = json.load(open(DATA_PATH+DATA_CONFIGS,'r'))"
   ]
  },
  {
   "cell_type": "code",
   "execution_count": 200,
   "metadata": {},
   "outputs": [],
   "source": [
    "model_name= 'cnn_classifier_kr'\n",
    "BATCH_SIZE = 512\n",
    "NUM_EPOCHS = 10\n",
    "VALID_SPLIT = 0.1\n",
    "MAX_LEN = train_input.shape[1]\n",
    "\n",
    "kargs={'model_name': model_name, \n",
    "        'vocab_size':prepro_configs['vocab_size'],\n",
    "        'embbeding_size':128, \n",
    "        'num_filters':100,\n",
    "        'dropout_rate':0.5, \n",
    "        'hidden_dimension':250,\n",
    "        'output_dimension':1}"
   ]
  },
  {
   "cell_type": "code",
   "execution_count": 201,
   "metadata": {},
   "outputs": [],
   "source": [
    "class CNNClassifier(tf.keras.Model):\n",
    "\n",
    "  def __init__(self, **kargs):\n",
    "    super(CNNClassifier, self).__init__(name=kargs['model_name'])\n",
    "    self.embedding = layers.Embedding(input_dim=kargs['vocab_size'], output_dim=kargs['embbeding_size'])\n",
    "    self.conv_list = [layers.Conv1D(filters=kargs['num_filters'], kernel_size=kernel_size, padding='valid',activation = tf.keras.activations.relu,\n",
    "                                    kernel_constraint = tf.keras.constraints.MaxNorm(max_value=3)) for kernel_size in [3,4,5]]\n",
    "    self.pooling = layers.GlobalMaxPooling1D()\n",
    "    self.dropout = layers.Dropout(kargs['dropout_rate'])\n",
    "    self.fc1 = layers.Dense(units=kargs['hidden_dimension'],\n",
    "                            activation = tf.keras.activations.relu,\n",
    "                            kernel_constraint=tf.keras.constraints.MaxNorm(max_value=3.))\n",
    "    self.fc2 = layers.Dense(units=kargs['output_dimension'],\n",
    "                            activation=tf.keras.activations.sigmoid,\n",
    "                            kernel_constraint= tf.keras.constraints.MaxNorm(max_value=3.))\n",
    "    \n",
    "\n",
    "  def call(self,x):\n",
    "    x = self.embedding(x)\n",
    "    x = self.dropout(x)\n",
    "    x = tf.concat([self.pooling(conv(x)) for conv in self.conv_list], axis = 1)\n",
    "    x = self.fc1(x)\n",
    "    x = self.fc2(x)\n",
    "    return x"
   ]
  },
  {
   "cell_type": "markdown",
   "metadata": {},
   "source": [
    "4. 학습하기\n",
    "에포크는 10으로 주어 학습을 진행하고, 검증 정확도가 그전보다 낮아지면 학습을 멈추도록 설계하였습니다."
   ]
  },
  {
   "cell_type": "code",
   "execution_count": 202,
   "metadata": {},
   "outputs": [],
   "source": [
    "model = CNNClassifier(**kargs)\n",
    "model.compile(optimizer=tf.keras.optimizers.Adam(),\n",
    "              loss = tf.keras.losses.BinaryCrossentropy(),\n",
    "              metrics = [tf.keras.metrics.BinaryAccuracy(name='accuracy')])\n"
   ]
  },
  {
   "cell_type": "code",
   "execution_count": 203,
   "metadata": {},
   "outputs": [],
   "source": [
    "INPUT_TEST_DATA = 'nsmc_test_input.npy'\n",
    "LABEL_TEST_DATA = 'nsmc_test_label.npy'\n",
    "SAVE_FILE_NM = 'weights.h5'\n",
    "\n",
    "test_input = np.load(open(DATA_PATH+INPUT_TEST_DATA,'rb'))\n",
    "test_input = pad_sequences(test_input,maxlen=test_input.shape[1])\n",
    "test_label_data = np.load(open(DATA_PATH + LABEL_TEST_DATA, 'rb'))\n"
   ]
  },
  {
   "cell_type": "code",
   "execution_count": 204,
   "metadata": {},
   "outputs": [
    {
     "name": "stdout",
     "output_type": "stream",
     "text": [
      "1563/1563 [==============================] - 1s 780us/step - loss: 0.3817 - accuracy: 0.8278\n"
     ]
    },
    {
     "data": {
      "text/plain": [
       "[0.381698876619339, 0.8278399705886841]"
      ]
     },
     "execution_count": 204,
     "metadata": {},
     "output_type": "execute_result"
    }
   ],
   "source": [
    "model.built = True\n",
    "model.call(test_input)\n",
    "model.load_weights('data/nsmc-master/DATA_OUT/cnn_classifier_kr/weights.h5')\n",
    "model.evaluate(test_input, test_label_data)"
   ]
  },
  {
   "cell_type": "code",
   "execution_count": 205,
   "metadata": {},
   "outputs": [],
   "source": [
    "okt = Okt()\n",
    "tokenizer  = Tokenizer()\n",
    "tokenizer.fit_on_texts(prepro_configs[\"vocab\"])"
   ]
  },
  {
   "cell_type": "code",
   "execution_count": 206,
   "metadata": {},
   "outputs": [],
   "source": [
    "MAX_LENGTH = 8 #문장최대길이\n",
    "\n",
    "sentence = \"진짜 이거는 16강 몰라\"\n",
    "# input('고맙습니다.: ')"
   ]
  },
  {
   "cell_type": "code",
   "execution_count": 290,
   "metadata": {},
   "outputs": [],
   "source": [
    "def clean_sentence(sentence):\n",
    "    sentence = re.sub(r'[^ㄱ-ㅎㅏ-ㅣ가-힣\\\\s ]','', sentence)\n",
    "    stopwords = ['은','는','이','가','하','아','것','들','의','있','되','수','보','주','등','한'] # 불용어 추가할 것이 있으면 이곳에 추가\n",
    "    sentence = okt.morphs(sentence, stem=True) # 토큰화\n",
    "    sentence = [word for word in sentence if not word in stopwords] # 불용어 제거\n",
    "    # print(sentence)\n",
    "    vector  = tokenizer.texts_to_sequences(sentence)\n",
    "    if len(vector) == 0:\n",
    "        vector = [np.zeros(MAX_LENGTH)]\n",
    "    pad_new = pad_sequences(vector, maxlen = MAX_LENGTH) # 패딩\n",
    "\n",
    "    return pad_new"
   ]
  },
  {
   "cell_type": "code",
   "execution_count": 305,
   "metadata": {},
   "outputs": [],
   "source": [
    "def predict_sent(sentence):\n",
    "    pad_new = clean_sentence(sentence)\n",
    "    predictions = model.predict(pad_new)\n",
    "    predictions = np.average(predictions)\n",
    "    \n",
    "    if(predictions > 0.5):\n",
    "        print(\"{:.2f}% 확률로 긍정 리뷰입니다.\\n\".format(predictions * 100))\n",
    "    else:\n",
    "        print(\"{:.2f}% 확률로 부정 리뷰입니다.\\n\".format((1 - predictions) * 100))"
   ]
  },
  {
   "cell_type": "code",
   "execution_count": 292,
   "metadata": {},
   "outputs": [
    {
     "data": {
      "text/html": [
       "<div>\n",
       "<style scoped>\n",
       "    .dataframe tbody tr th:only-of-type {\n",
       "        vertical-align: middle;\n",
       "    }\n",
       "\n",
       "    .dataframe tbody tr th {\n",
       "        vertical-align: top;\n",
       "    }\n",
       "\n",
       "    .dataframe thead th {\n",
       "        text-align: right;\n",
       "    }\n",
       "</style>\n",
       "<table border=\"1\" class=\"dataframe\">\n",
       "  <thead>\n",
       "    <tr style=\"text-align: right;\">\n",
       "      <th></th>\n",
       "      <th>Date</th>\n",
       "      <th>Time</th>\n",
       "      <th>Author</th>\n",
       "      <th>Content</th>\n",
       "    </tr>\n",
       "  </thead>\n",
       "  <tbody>\n",
       "    <tr>\n",
       "      <th>0</th>\n",
       "      <td>2022-10-17</td>\n",
       "      <td>11:30:24</td>\n",
       "      <td>AI_15_이상필</td>\n",
       "      <td>안녕하세요~^-^</td>\n",
       "    </tr>\n",
       "    <tr>\n",
       "      <th>1</th>\n",
       "      <td>2022-10-17</td>\n",
       "      <td>11:30:25</td>\n",
       "      <td>AI_15_전현아</td>\n",
       "      <td>안녕하세요~</td>\n",
       "    </tr>\n",
       "    <tr>\n",
       "      <th>2</th>\n",
       "      <td>2022-10-17</td>\n",
       "      <td>11:30:28</td>\n",
       "      <td>AI_15_윤종률</td>\n",
       "      <td>안녕하세요</td>\n",
       "    </tr>\n",
       "    <tr>\n",
       "      <th>3</th>\n",
       "      <td>2022-10-17</td>\n",
       "      <td>11:30:30</td>\n",
       "      <td>AI_15_이세윤</td>\n",
       "      <td>안녕하세요~</td>\n",
       "    </tr>\n",
       "    <tr>\n",
       "      <th>4</th>\n",
       "      <td>2022-10-17</td>\n",
       "      <td>11:30:33</td>\n",
       "      <td>AI_15_박난</td>\n",
       "      <td>안녕하세요</td>\n",
       "    </tr>\n",
       "  </tbody>\n",
       "</table>\n",
       "</div>"
      ],
      "text/plain": [
       "         Date      Time     Author    Content\n",
       "0  2022-10-17  11:30:24  AI_15_이상필  안녕하세요~^-^\n",
       "1  2022-10-17  11:30:25  AI_15_전현아     안녕하세요~\n",
       "2  2022-10-17  11:30:28  AI_15_윤종률      안녕하세요\n",
       "3  2022-10-17  11:30:30  AI_15_이세윤     안녕하세요~\n",
       "4  2022-10-17  11:30:33   AI_15_박난      안녕하세요"
      ]
     },
     "execution_count": 292,
     "metadata": {},
     "output_type": "execute_result"
    }
   ],
   "source": [
    "# 섹션 4 11월 9일부터 - 11월 29일까지\n",
    "\n",
    "zoom = pd.read_csv(\"data/clean/zoom_total.csv\",index_col=0)\n",
    "zoom = zoom.dropna()\n",
    "zoom.head()"
   ]
  },
  {
   "cell_type": "code",
   "execution_count": 293,
   "metadata": {},
   "outputs": [
    {
     "data": {
      "text/html": [
       "<div>\n",
       "<style scoped>\n",
       "    .dataframe tbody tr th:only-of-type {\n",
       "        vertical-align: middle;\n",
       "    }\n",
       "\n",
       "    .dataframe tbody tr th {\n",
       "        vertical-align: top;\n",
       "    }\n",
       "\n",
       "    .dataframe thead th {\n",
       "        text-align: right;\n",
       "    }\n",
       "</style>\n",
       "<table border=\"1\" class=\"dataframe\">\n",
       "  <thead>\n",
       "    <tr style=\"text-align: right;\">\n",
       "      <th></th>\n",
       "      <th>Date</th>\n",
       "      <th>Time</th>\n",
       "      <th>Author</th>\n",
       "      <th>Content</th>\n",
       "    </tr>\n",
       "  </thead>\n",
       "  <tbody>\n",
       "    <tr>\n",
       "      <th>8889</th>\n",
       "      <td>2022-11-09</td>\n",
       "      <td>11:30:23</td>\n",
       "      <td>AI_15_최준영</td>\n",
       "      <td>안녕하세요</td>\n",
       "    </tr>\n",
       "    <tr>\n",
       "      <th>8890</th>\n",
       "      <td>2022-11-09</td>\n",
       "      <td>11:30:25</td>\n",
       "      <td>AI_15_이도연</td>\n",
       "      <td>안녕하세용</td>\n",
       "    </tr>\n",
       "    <tr>\n",
       "      <th>8891</th>\n",
       "      <td>2022-11-09</td>\n",
       "      <td>11:30:25</td>\n",
       "      <td>AI_15_이태섭</td>\n",
       "      <td>안녕하세요</td>\n",
       "    </tr>\n",
       "    <tr>\n",
       "      <th>8892</th>\n",
       "      <td>2022-11-09</td>\n",
       "      <td>11:30:30</td>\n",
       "      <td>AI_15_전현아</td>\n",
       "      <td>안녕하세요~</td>\n",
       "    </tr>\n",
       "    <tr>\n",
       "      <th>8893</th>\n",
       "      <td>2022-11-09</td>\n",
       "      <td>11:30:32</td>\n",
       "      <td>AI_15_윤종률</td>\n",
       "      <td>안녕하세요</td>\n",
       "    </tr>\n",
       "  </tbody>\n",
       "</table>\n",
       "</div>"
      ],
      "text/plain": [
       "            Date      Time     Author Content\n",
       "8889  2022-11-09  11:30:23  AI_15_최준영   안녕하세요\n",
       "8890  2022-11-09  11:30:25  AI_15_이도연   안녕하세용\n",
       "8891  2022-11-09  11:30:25  AI_15_이태섭   안녕하세요\n",
       "8892  2022-11-09  11:30:30  AI_15_전현아  안녕하세요~\n",
       "8893  2022-11-09  11:30:32  AI_15_윤종률   안녕하세요"
      ]
     },
     "execution_count": 293,
     "metadata": {},
     "output_type": "execute_result"
    }
   ],
   "source": [
    "zoom_s4 = zoom[zoom[\"Date\"] >= \"2022-11-09\"]\n",
    "zoom_s4.head()"
   ]
  },
  {
   "cell_type": "code",
   "execution_count": 294,
   "metadata": {},
   "outputs": [],
   "source": [
    "zoom_s4_1109 = zoom[zoom[\"Date\"] == \"2022-11-09\"]"
   ]
  },
  {
   "cell_type": "code",
   "execution_count": 307,
   "metadata": {},
   "outputs": [],
   "source": [
    "def predict_zoom(df):\n",
    "    df_copy = df.copy()\n",
    "    # print(df_copy.shape)\n",
    "    lst_label = []\n",
    "    lst_proba = []\n",
    "    for line in df_copy[\"Content\"]:\n",
    "        # print(line)\n",
    "        pad_new = clean_sentence(line)\n",
    "        predictions = model.predict(pad_new)\n",
    "        predictions = np.average(predictions)\n",
    "        \n",
    "        if(predictions > 0.5):\n",
    "            # print(\"{:.2f}% 확률로 긍정 리뷰입니다.\\n\".format(predictions * 100))\n",
    "            lst_label.append(1)\n",
    "        else:\n",
    "            # print(\"{:.2f}% 확률로 부정 리뷰입니다.\\n\".format((1 - predictions) * 100))\n",
    "            lst_label.append(0)\n",
    "            \n",
    "        lst_proba.append(predictions)\n",
    "    # print(len(lst_label),len(lst_proba))\n",
    "    # print(lst_label,lst_proba)\n",
    "    df_copy[\"Label\"] = lst_label\n",
    "    df_copy[\"Proba\"] = lst_proba\n",
    "    return df_copy"
   ]
  },
  {
   "cell_type": "code",
   "execution_count": 308,
   "metadata": {},
   "outputs": [
    {
     "data": {
      "text/html": [
       "<div>\n",
       "<style scoped>\n",
       "    .dataframe tbody tr th:only-of-type {\n",
       "        vertical-align: middle;\n",
       "    }\n",
       "\n",
       "    .dataframe tbody tr th {\n",
       "        vertical-align: top;\n",
       "    }\n",
       "\n",
       "    .dataframe thead th {\n",
       "        text-align: right;\n",
       "    }\n",
       "</style>\n",
       "<table border=\"1\" class=\"dataframe\">\n",
       "  <thead>\n",
       "    <tr style=\"text-align: right;\">\n",
       "      <th></th>\n",
       "      <th>Date</th>\n",
       "      <th>Time</th>\n",
       "      <th>Author</th>\n",
       "      <th>Content</th>\n",
       "      <th>Label</th>\n",
       "      <th>Proba</th>\n",
       "    </tr>\n",
       "  </thead>\n",
       "  <tbody>\n",
       "    <tr>\n",
       "      <th>8889</th>\n",
       "      <td>2022-11-09</td>\n",
       "      <td>11:30:23</td>\n",
       "      <td>AI_15_최준영</td>\n",
       "      <td>안녕하세요</td>\n",
       "      <td>0</td>\n",
       "      <td>0.481098</td>\n",
       "    </tr>\n",
       "    <tr>\n",
       "      <th>8890</th>\n",
       "      <td>2022-11-09</td>\n",
       "      <td>11:30:25</td>\n",
       "      <td>AI_15_이도연</td>\n",
       "      <td>안녕하세용</td>\n",
       "      <td>0</td>\n",
       "      <td>0.481098</td>\n",
       "    </tr>\n",
       "    <tr>\n",
       "      <th>8891</th>\n",
       "      <td>2022-11-09</td>\n",
       "      <td>11:30:25</td>\n",
       "      <td>AI_15_이태섭</td>\n",
       "      <td>안녕하세요</td>\n",
       "      <td>0</td>\n",
       "      <td>0.481098</td>\n",
       "    </tr>\n",
       "    <tr>\n",
       "      <th>8892</th>\n",
       "      <td>2022-11-09</td>\n",
       "      <td>11:30:30</td>\n",
       "      <td>AI_15_전현아</td>\n",
       "      <td>안녕하세요~</td>\n",
       "      <td>0</td>\n",
       "      <td>0.481098</td>\n",
       "    </tr>\n",
       "    <tr>\n",
       "      <th>8893</th>\n",
       "      <td>2022-11-09</td>\n",
       "      <td>11:30:32</td>\n",
       "      <td>AI_15_윤종률</td>\n",
       "      <td>안녕하세요</td>\n",
       "      <td>0</td>\n",
       "      <td>0.481098</td>\n",
       "    </tr>\n",
       "  </tbody>\n",
       "</table>\n",
       "</div>"
      ],
      "text/plain": [
       "            Date      Time     Author Content  Label     Proba\n",
       "8889  2022-11-09  11:30:23  AI_15_최준영   안녕하세요      0  0.481098\n",
       "8890  2022-11-09  11:30:25  AI_15_이도연   안녕하세용      0  0.481098\n",
       "8891  2022-11-09  11:30:25  AI_15_이태섭   안녕하세요      0  0.481098\n",
       "8892  2022-11-09  11:30:30  AI_15_전현아  안녕하세요~      0  0.481098\n",
       "8893  2022-11-09  11:30:32  AI_15_윤종률   안녕하세요      0  0.481098"
      ]
     },
     "execution_count": 308,
     "metadata": {},
     "output_type": "execute_result"
    }
   ],
   "source": [
    "s4_res = predict_zoom(zoom_s4)\n",
    "s4_res.head()"
   ]
  },
  {
   "cell_type": "code",
   "execution_count": 310,
   "metadata": {},
   "outputs": [],
   "source": [
    "s4_res.to_csv(\"data/zoom_s4.csv\")"
   ]
  }
 ],
 "metadata": {
  "kernelspec": {
   "display_name": "Python 3.8.13 ('tfgpu27')",
   "language": "python",
   "name": "python3"
  },
  "language_info": {
   "codemirror_mode": {
    "name": "ipython",
    "version": 3
   },
   "file_extension": ".py",
   "mimetype": "text/x-python",
   "name": "python",
   "nbconvert_exporter": "python",
   "pygments_lexer": "ipython3",
   "version": "3.8.13"
  },
  "orig_nbformat": 4,
  "vscode": {
   "interpreter": {
    "hash": "85427b40ec1a2195fd61517576de892607997da15f21fdd78dd8e094ddfdf54e"
   }
  }
 },
 "nbformat": 4,
 "nbformat_minor": 2
}
