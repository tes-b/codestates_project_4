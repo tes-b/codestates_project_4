{
 "cells": [
  {
   "cell_type": "code",
   "execution_count": 28,
   "metadata": {},
   "outputs": [],
   "source": [
    "import pandas as pd\n",
    "import os"
   ]
  },
  {
   "cell_type": "code",
   "execution_count": 29,
   "metadata": {},
   "outputs": [
    {
     "name": "stdout",
     "output_type": "stream",
     "text": [
      "/media/tesb/DATA/DATA_study/codestates_project_4\n"
     ]
    }
   ],
   "source": [
    "print(os.getcwd())"
   ]
  },
  {
   "cell_type": "code",
   "execution_count": 30,
   "metadata": {},
   "outputs": [],
   "source": [
    "df_zoom          = pd.read_csv(\"data/clean/zoom_total.csv\", index_col=0)\n",
    "df_zoom_g1       = pd.read_csv(\"data/clean/zoom_g1.csv\", index_col=0)\n",
    "df_zoom_sf       = pd.read_csv(\"data/clean/zoom_sf.csv\", index_col=0)\n",
    "df_zoom_ts       = pd.read_csv(\"data/clean/zoom_ts.csv\", index_col=0)\n",
    "df_discord       = pd.read_csv(\"data/clean/discord_total.csv\", index_col=0)\n",
    "df_discord_g1    = pd.read_csv(\"data/clean/discord_g1.csv\", index_col=0)\n",
    "df_discord_sf    = pd.read_csv(\"data/clean/discord_sf.csv\", index_col=0)\n",
    "df_discord_rg    = pd.read_csv(\"data/clean/discord_rg.csv\", index_col=0)\n",
    "df_discord_ts    = pd.read_csv(\"data/clean/discord_ts.csv\", index_col=0)\n"
   ]
  },
  {
   "cell_type": "code",
   "execution_count": 31,
   "metadata": {},
   "outputs": [
    {
     "name": "stdout",
     "output_type": "stream",
     "text": [
      "(19262, 4) (2800, 4) (2310, 4) (400, 4)\n",
      "(144889, 4) (17060, 4) (4386, 4) (19130, 4) (4985, 4)\n"
     ]
    }
   ],
   "source": [
    "print(df_zoom.shape, df_zoom_g1.shape, df_zoom_sf.shape, df_zoom_ts.shape)\n",
    "print(df_discord.shape, df_discord_g1.shape, df_discord_sf.shape, df_discord_rg.shape, df_discord_ts.shape)"
   ]
  },
  {
   "cell_type": "code",
   "execution_count": 16,
   "metadata": {},
   "outputs": [
    {
     "data": {
      "text/html": [
       "<div>\n",
       "<style scoped>\n",
       "    .dataframe tbody tr th:only-of-type {\n",
       "        vertical-align: middle;\n",
       "    }\n",
       "\n",
       "    .dataframe tbody tr th {\n",
       "        vertical-align: top;\n",
       "    }\n",
       "\n",
       "    .dataframe thead th {\n",
       "        text-align: right;\n",
       "    }\n",
       "</style>\n",
       "<table border=\"1\" class=\"dataframe\">\n",
       "  <thead>\n",
       "    <tr style=\"text-align: right;\">\n",
       "      <th></th>\n",
       "      <th>Date</th>\n",
       "      <th>Time</th>\n",
       "      <th>Author</th>\n",
       "      <th>Content</th>\n",
       "    </tr>\n",
       "  </thead>\n",
       "  <tbody>\n",
       "    <tr>\n",
       "      <th>99</th>\n",
       "      <td>2022-10-17</td>\n",
       "      <td>11:43:37</td>\n",
       "      <td>AI_15_전지원</td>\n",
       "      <td>1</td>\n",
       "    </tr>\n",
       "    <tr>\n",
       "      <th>123</th>\n",
       "      <td>2022-10-17</td>\n",
       "      <td>11:46:13</td>\n",
       "      <td>AI_15_전지원</td>\n",
       "      <td>만들어진붕어빵222</td>\n",
       "    </tr>\n",
       "    <tr>\n",
       "      <th>135</th>\n",
       "      <td>2022-10-17</td>\n",
       "      <td>11:47:18</td>\n",
       "      <td>AI_15_전지원</td>\n",
       "      <td>_init_은 뭐였죠</td>\n",
       "    </tr>\n",
       "    <tr>\n",
       "      <th>136</th>\n",
       "      <td>2022-10-17</td>\n",
       "      <td>11:47:19</td>\n",
       "      <td>AI_15_전지원</td>\n",
       "      <td>아하</td>\n",
       "    </tr>\n",
       "    <tr>\n",
       "      <th>138</th>\n",
       "      <td>2022-10-17</td>\n",
       "      <td>11:47:45</td>\n",
       "      <td>AI_15_전지원</td>\n",
       "      <td>1</td>\n",
       "    </tr>\n",
       "  </tbody>\n",
       "</table>\n",
       "</div>"
      ],
      "text/plain": [
       "           Date      Time     Author      Content\n",
       "99   2022-10-17  11:43:37  AI_15_전지원            1\n",
       "123  2022-10-17  11:46:13  AI_15_전지원   만들어진붕어빵222\n",
       "135  2022-10-17  11:47:18  AI_15_전지원  _init_은 뭐였죠\n",
       "136  2022-10-17  11:47:19  AI_15_전지원           아하\n",
       "138  2022-10-17  11:47:45  AI_15_전지원            1"
      ]
     },
     "execution_count": 16,
     "metadata": {},
     "output_type": "execute_result"
    }
   ],
   "source": [
    "df_zoom_g1.head()"
   ]
  },
  {
   "cell_type": "code",
   "execution_count": 21,
   "metadata": {},
   "outputs": [],
   "source": [
    "# g1_cont = df_discord_g1[\"Content\"]\n",
    "g1_cont = pd.concat([df_discord_g1[\"Content\"],df_zoom_g1[\"Content\"]])\n",
    "g1_cont.to_csv(\"data/clean/g1.txt\", index=False)"
   ]
  },
  {
   "cell_type": "code",
   "execution_count": 22,
   "metadata": {},
   "outputs": [],
   "source": [
    "sf_cont = pd.concat([df_discord_sf[\"Content\"],df_zoom_sf[\"Content\"]])\n",
    "sf_cont.to_csv(\"data/clean/sf.txt\", index=False)"
   ]
  },
  {
   "cell_type": "code",
   "execution_count": 32,
   "metadata": {},
   "outputs": [],
   "source": [
    "ts_cont = pd.concat([df_discord_ts[\"Content\"],df_zoom_ts[\"Content\"]])\n",
    "ts_cont.to_csv(\"data/clean/ts.txt\", index=False)"
   ]
  },
  {
   "cell_type": "code",
   "execution_count": 23,
   "metadata": {},
   "outputs": [],
   "source": [
    "rg_cont = df_discord_rg[\"Content\"]\n",
    "rg_cont.to_csv(\"data/clean/rg.txt\", index=False)"
   ]
  }
 ],
 "metadata": {
  "kernelspec": {
   "display_name": "Python 3.8.13 ('tfgpu27')",
   "language": "python",
   "name": "python3"
  },
  "language_info": {
   "codemirror_mode": {
    "name": "ipython",
    "version": 3
   },
   "file_extension": ".py",
   "mimetype": "text/x-python",
   "name": "python",
   "nbconvert_exporter": "python",
   "pygments_lexer": "ipython3",
   "version": "3.8.13"
  },
  "orig_nbformat": 4,
  "vscode": {
   "interpreter": {
    "hash": "85427b40ec1a2195fd61517576de892607997da15f21fdd78dd8e094ddfdf54e"
   }
  }
 },
 "nbformat": 4,
 "nbformat_minor": 2
}
